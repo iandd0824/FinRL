{
 "cells": [
  {
   "cell_type": "code",
   "execution_count": 3,
   "id": "db8d0078",
   "metadata": {},
   "outputs": [
    {
     "name": "stderr",
     "output_type": "stream",
     "text": [
      "D:\\Anaconda3\\envs\\finrl\\lib\\site-packages\\pyfolio\\pos.py:26: UserWarning: Module \"zipline.assets\" not found; multipliers will not be applied to position notionals.\n",
      "  warnings.warn(\n"
     ]
    }
   ],
   "source": [
    "from finrl.train import train\n",
    "from finrl.test import test\n",
    "from finrl.config_tickers import DOW_30_TICKER\n",
    "from finrl.config import INDICATORS\n",
    "from finrl.meta.env_stock_trading.env_stocktrading_np import StockTradingEnv\n",
    "from finrl.meta.env_stock_trading.env_stock_papertrading import AlpacaPaperTrading\n",
    "from finrl.meta.data_processor import DataProcessor\n",
    "from finrl.plot import backtest_stats, backtest_plot, get_daily_return, get_baseline\n",
    "\n",
    "import numpy as np\n",
    "import pandas as pd\n",
    "\n",
    "# install ipywidgets to fix the jupyter notebook warning\n",
    "# D:\\Anaconda3\\envs\\finrl\\lib\\site-packages\\tqdm\\auto.py:22: TqdmWarning: IProgress not found. Please update jupyter and ipywidgets. See https://ipywidgets.readthedocs.io/en/stable/user_install.html\n",
    "#   from .autonotebook import tqdm as notebook_tqdm\n",
    "# pip install ipywidgets"
   ]
  },
  {
   "cell_type": "code",
   "execution_count": 4,
   "id": "16b9ea8e",
   "metadata": {},
   "outputs": [],
   "source": [
    "ticker_list = DOW_30_TICKER\n",
    "action_dim = len(DOW_30_TICKER)\n",
    "candle_time_interval = '15Min'"
   ]
  },
  {
   "cell_type": "code",
   "execution_count": 5,
   "id": "483ab2a5",
   "metadata": {},
   "outputs": [
    {
     "name": "stdout",
     "output_type": "stream",
     "text": [
      "['AXP', 'AMGN', 'AAPL', 'BA', 'CAT', 'CSCO', 'CVX', 'GS', 'HD', 'HON', 'IBM', 'INTC', 'JNJ', 'KO', 'JPM', 'MCD', 'MMM', 'MRK', 'MSFT', 'NKE', 'PG', 'TRV', 'UNH', 'CRM', 'VZ', 'V', 'WBA', 'WMT', 'DIS', 'DOW']\n"
     ]
    }
   ],
   "source": [
    "print(ticker_list)"
   ]
  },
  {
   "cell_type": "code",
   "execution_count": 6,
   "id": "2e6be006",
   "metadata": {},
   "outputs": [
    {
     "name": "stdout",
     "output_type": "stream",
     "text": [
      "['macd', 'boll_ub', 'boll_lb', 'rsi_30', 'cci_30', 'dx_30', 'close_30_sma', 'close_60_sma']\n"
     ]
    }
   ],
   "source": [
    "print(INDICATORS)"
   ]
  },
  {
   "cell_type": "code",
   "execution_count": 7,
   "id": "ba7179a9",
   "metadata": {},
   "outputs": [
    {
     "data": {
      "text/plain": [
       "333"
      ]
     },
     "execution_count": 7,
     "metadata": {},
     "output_type": "execute_result"
    }
   ],
   "source": [
    "# amount + (turbulence, turbulence_bool) + (price, shares, cd (holding time)) * stock_dim + tech_dim\n",
    "state_dim = 1 + 2 + 3 * action_dim + len(INDICATORS) * action_dim\n",
    "state_dim"
   ]
  },
  {
   "cell_type": "code",
   "execution_count": 34,
   "id": "687aaf1e",
   "metadata": {},
   "outputs": [],
   "source": [
    "API_KEY = \"PKZOWRCNANQ79J7CV314\"\n",
    "API_SECRET = \"7xYTpMGdeffzOsDDsrnl4UryzvJClIpsvZeTIPYf\"\n",
    "API_BASE_URL = 'https://paper-api.alpaca.markets'\n",
    "data_url = 'wss://data.alpaca.markets'\n",
    "env = StockTradingEnv"
   ]
  },
  {
   "cell_type": "markdown",
   "id": "7f8023a9",
   "metadata": {},
   "source": [
    "## Alpaca API"
   ]
  },
  {
   "cell_type": "code",
   "execution_count": 51,
   "id": "5c9181a7",
   "metadata": {},
   "outputs": [],
   "source": [
    "# import alpaca_trade_api as tradeapi\n",
    "from alpaca_trade_api.rest import REST, TimeFrame, TimeFrameUnit"
   ]
  },
  {
   "cell_type": "code",
   "execution_count": 52,
   "id": "348f65f8",
   "metadata": {},
   "outputs": [],
   "source": [
    "try:\n",
    "    api = REST(API_KEY, API_SECRET, API_BASE_URL, \"v2\")\n",
    "except BaseException:\n",
    "    raise ValueError(\"Wrong Account Info!\")"
   ]
  },
  {
   "cell_type": "code",
   "execution_count": 58,
   "id": "9e753b58",
   "metadata": {},
   "outputs": [
    {
     "data": {
      "text/plain": [
       "'30Min'"
      ]
     },
     "execution_count": 58,
     "metadata": {},
     "output_type": "execute_result"
    }
   ],
   "source": [
    "TimeFrame(30, TimeFrameUnit.Minute)\n",
    "\"30Min\""
   ]
  },
  {
   "cell_type": "code",
   "execution_count": 56,
   "id": "1c510a5e",
   "metadata": {},
   "outputs": [
    {
     "data": {
      "text/html": [
       "<div>\n",
       "<style scoped>\n",
       "    .dataframe tbody tr th:only-of-type {\n",
       "        vertical-align: middle;\n",
       "    }\n",
       "\n",
       "    .dataframe tbody tr th {\n",
       "        vertical-align: top;\n",
       "    }\n",
       "\n",
       "    .dataframe thead th {\n",
       "        text-align: right;\n",
       "    }\n",
       "</style>\n",
       "<table border=\"1\" class=\"dataframe\">\n",
       "  <thead>\n",
       "    <tr style=\"text-align: right;\">\n",
       "      <th></th>\n",
       "      <th>open</th>\n",
       "      <th>high</th>\n",
       "      <th>low</th>\n",
       "      <th>close</th>\n",
       "      <th>volume</th>\n",
       "      <th>trade_count</th>\n",
       "      <th>vwap</th>\n",
       "    </tr>\n",
       "    <tr>\n",
       "      <th>timestamp</th>\n",
       "      <th></th>\n",
       "      <th></th>\n",
       "      <th></th>\n",
       "      <th></th>\n",
       "      <th></th>\n",
       "      <th></th>\n",
       "      <th></th>\n",
       "    </tr>\n",
       "  </thead>\n",
       "  <tbody>\n",
       "    <tr>\n",
       "      <th>2021-06-08 07:30:00+00:00</th>\n",
       "      <td>126.1000</td>\n",
       "      <td>126.1600</td>\n",
       "      <td>125.9600</td>\n",
       "      <td>126.0600</td>\n",
       "      <td>20951</td>\n",
       "      <td>304</td>\n",
       "      <td>126.049447</td>\n",
       "    </tr>\n",
       "    <tr>\n",
       "      <th>2021-06-08 08:15:00+00:00</th>\n",
       "      <td>126.0500</td>\n",
       "      <td>126.3000</td>\n",
       "      <td>126.0500</td>\n",
       "      <td>126.3000</td>\n",
       "      <td>21181</td>\n",
       "      <td>349</td>\n",
       "      <td>126.231904</td>\n",
       "    </tr>\n",
       "    <tr>\n",
       "      <th>2021-06-08 09:00:00+00:00</th>\n",
       "      <td>126.2700</td>\n",
       "      <td>126.3200</td>\n",
       "      <td>126.2200</td>\n",
       "      <td>126.2800</td>\n",
       "      <td>15955</td>\n",
       "      <td>308</td>\n",
       "      <td>126.284120</td>\n",
       "    </tr>\n",
       "    <tr>\n",
       "      <th>2021-06-08 09:45:00+00:00</th>\n",
       "      <td>126.2900</td>\n",
       "      <td>126.4000</td>\n",
       "      <td>125.9000</td>\n",
       "      <td>125.9000</td>\n",
       "      <td>30179</td>\n",
       "      <td>582</td>\n",
       "      <td>126.196877</td>\n",
       "    </tr>\n",
       "    <tr>\n",
       "      <th>2021-06-08 10:30:00+00:00</th>\n",
       "      <td>125.9000</td>\n",
       "      <td>126.7500</td>\n",
       "      <td>125.8400</td>\n",
       "      <td>126.7500</td>\n",
       "      <td>105380</td>\n",
       "      <td>1376</td>\n",
       "      <td>126.530863</td>\n",
       "    </tr>\n",
       "    <tr>\n",
       "      <th>2021-06-08 11:15:00+00:00</th>\n",
       "      <td>126.7300</td>\n",
       "      <td>126.8500</td>\n",
       "      <td>126.5600</td>\n",
       "      <td>126.8300</td>\n",
       "      <td>129721</td>\n",
       "      <td>1760</td>\n",
       "      <td>126.738041</td>\n",
       "    </tr>\n",
       "    <tr>\n",
       "      <th>2021-06-08 12:00:00+00:00</th>\n",
       "      <td>126.4101</td>\n",
       "      <td>126.9500</td>\n",
       "      <td>126.3999</td>\n",
       "      <td>126.8300</td>\n",
       "      <td>418107</td>\n",
       "      <td>3615</td>\n",
       "      <td>126.771889</td>\n",
       "    </tr>\n",
       "    <tr>\n",
       "      <th>2021-06-08 12:45:00+00:00</th>\n",
       "      <td>126.8500</td>\n",
       "      <td>126.9400</td>\n",
       "      <td>126.6000</td>\n",
       "      <td>126.6200</td>\n",
       "      <td>428614</td>\n",
       "      <td>5526</td>\n",
       "      <td>126.802825</td>\n",
       "    </tr>\n",
       "    <tr>\n",
       "      <th>2021-06-08 13:30:00+00:00</th>\n",
       "      <td>126.6200</td>\n",
       "      <td>128.4600</td>\n",
       "      <td>126.4485</td>\n",
       "      <td>127.4150</td>\n",
       "      <td>23064810</td>\n",
       "      <td>171259</td>\n",
       "      <td>127.425804</td>\n",
       "    </tr>\n",
       "    <tr>\n",
       "      <th>2021-06-08 14:15:00+00:00</th>\n",
       "      <td>127.4177</td>\n",
       "      <td>127.6400</td>\n",
       "      <td>126.9300</td>\n",
       "      <td>127.1350</td>\n",
       "      <td>8533768</td>\n",
       "      <td>65748</td>\n",
       "      <td>127.342375</td>\n",
       "    </tr>\n",
       "    <tr>\n",
       "      <th>2021-06-08 15:00:00+00:00</th>\n",
       "      <td>127.1400</td>\n",
       "      <td>127.4700</td>\n",
       "      <td>126.2101</td>\n",
       "      <td>126.7101</td>\n",
       "      <td>8447696</td>\n",
       "      <td>64616</td>\n",
       "      <td>126.789316</td>\n",
       "    </tr>\n",
       "    <tr>\n",
       "      <th>2021-06-08 15:45:00+00:00</th>\n",
       "      <td>126.7100</td>\n",
       "      <td>126.8200</td>\n",
       "      <td>126.5300</td>\n",
       "      <td>126.6788</td>\n",
       "      <td>5084147</td>\n",
       "      <td>38366</td>\n",
       "      <td>126.712110</td>\n",
       "    </tr>\n",
       "    <tr>\n",
       "      <th>2021-06-08 16:30:00+00:00</th>\n",
       "      <td>126.6799</td>\n",
       "      <td>126.8400</td>\n",
       "      <td>126.5950</td>\n",
       "      <td>126.5950</td>\n",
       "      <td>3205870</td>\n",
       "      <td>26614</td>\n",
       "      <td>126.718837</td>\n",
       "    </tr>\n",
       "    <tr>\n",
       "      <th>2021-06-08 17:15:00+00:00</th>\n",
       "      <td>126.6000</td>\n",
       "      <td>126.9300</td>\n",
       "      <td>126.4300</td>\n",
       "      <td>126.7010</td>\n",
       "      <td>3908283</td>\n",
       "      <td>31922</td>\n",
       "      <td>126.665727</td>\n",
       "    </tr>\n",
       "    <tr>\n",
       "      <th>2021-06-08 18:00:00+00:00</th>\n",
       "      <td>126.7072</td>\n",
       "      <td>127.0900</td>\n",
       "      <td>126.6700</td>\n",
       "      <td>127.0600</td>\n",
       "      <td>3923056</td>\n",
       "      <td>29114</td>\n",
       "      <td>126.939887</td>\n",
       "    </tr>\n",
       "    <tr>\n",
       "      <th>2021-06-08 18:45:00+00:00</th>\n",
       "      <td>127.0500</td>\n",
       "      <td>127.4200</td>\n",
       "      <td>127.0000</td>\n",
       "      <td>127.0050</td>\n",
       "      <td>5051682</td>\n",
       "      <td>38235</td>\n",
       "      <td>127.214157</td>\n",
       "    </tr>\n",
       "    <tr>\n",
       "      <th>2021-06-08 19:30:00+00:00</th>\n",
       "      <td>127.0150</td>\n",
       "      <td>127.0782</td>\n",
       "      <td>126.6800</td>\n",
       "      <td>126.7800</td>\n",
       "      <td>11665598</td>\n",
       "      <td>47146</td>\n",
       "      <td>126.813182</td>\n",
       "    </tr>\n",
       "    <tr>\n",
       "      <th>2021-06-08 20:15:00+00:00</th>\n",
       "      <td>126.7700</td>\n",
       "      <td>126.7900</td>\n",
       "      <td>126.5400</td>\n",
       "      <td>126.6600</td>\n",
       "      <td>83725</td>\n",
       "      <td>1973</td>\n",
       "      <td>126.679259</td>\n",
       "    </tr>\n",
       "    <tr>\n",
       "      <th>2021-06-08 21:00:00+00:00</th>\n",
       "      <td>126.6900</td>\n",
       "      <td>126.8500</td>\n",
       "      <td>126.6700</td>\n",
       "      <td>126.7200</td>\n",
       "      <td>145153</td>\n",
       "      <td>769</td>\n",
       "      <td>126.746457</td>\n",
       "    </tr>\n",
       "    <tr>\n",
       "      <th>2021-06-08 21:45:00+00:00</th>\n",
       "      <td>126.7000</td>\n",
       "      <td>126.7400</td>\n",
       "      <td>126.6500</td>\n",
       "      <td>126.7100</td>\n",
       "      <td>38455</td>\n",
       "      <td>406</td>\n",
       "      <td>126.699544</td>\n",
       "    </tr>\n",
       "    <tr>\n",
       "      <th>2021-06-08 22:30:00+00:00</th>\n",
       "      <td>126.7100</td>\n",
       "      <td>126.7600</td>\n",
       "      <td>126.6700</td>\n",
       "      <td>126.7100</td>\n",
       "      <td>30822</td>\n",
       "      <td>222</td>\n",
       "      <td>126.713892</td>\n",
       "    </tr>\n",
       "    <tr>\n",
       "      <th>2021-06-08 23:15:00+00:00</th>\n",
       "      <td>126.7200</td>\n",
       "      <td>126.7600</td>\n",
       "      <td>126.6400</td>\n",
       "      <td>126.6400</td>\n",
       "      <td>32585</td>\n",
       "      <td>340</td>\n",
       "      <td>126.704131</td>\n",
       "    </tr>\n",
       "  </tbody>\n",
       "</table>\n",
       "</div>"
      ],
      "text/plain": [
       "                               open      high       low     close    volume  \\\n",
       "timestamp                                                                     \n",
       "2021-06-08 07:30:00+00:00  126.1000  126.1600  125.9600  126.0600     20951   \n",
       "2021-06-08 08:15:00+00:00  126.0500  126.3000  126.0500  126.3000     21181   \n",
       "2021-06-08 09:00:00+00:00  126.2700  126.3200  126.2200  126.2800     15955   \n",
       "2021-06-08 09:45:00+00:00  126.2900  126.4000  125.9000  125.9000     30179   \n",
       "2021-06-08 10:30:00+00:00  125.9000  126.7500  125.8400  126.7500    105380   \n",
       "2021-06-08 11:15:00+00:00  126.7300  126.8500  126.5600  126.8300    129721   \n",
       "2021-06-08 12:00:00+00:00  126.4101  126.9500  126.3999  126.8300    418107   \n",
       "2021-06-08 12:45:00+00:00  126.8500  126.9400  126.6000  126.6200    428614   \n",
       "2021-06-08 13:30:00+00:00  126.6200  128.4600  126.4485  127.4150  23064810   \n",
       "2021-06-08 14:15:00+00:00  127.4177  127.6400  126.9300  127.1350   8533768   \n",
       "2021-06-08 15:00:00+00:00  127.1400  127.4700  126.2101  126.7101   8447696   \n",
       "2021-06-08 15:45:00+00:00  126.7100  126.8200  126.5300  126.6788   5084147   \n",
       "2021-06-08 16:30:00+00:00  126.6799  126.8400  126.5950  126.5950   3205870   \n",
       "2021-06-08 17:15:00+00:00  126.6000  126.9300  126.4300  126.7010   3908283   \n",
       "2021-06-08 18:00:00+00:00  126.7072  127.0900  126.6700  127.0600   3923056   \n",
       "2021-06-08 18:45:00+00:00  127.0500  127.4200  127.0000  127.0050   5051682   \n",
       "2021-06-08 19:30:00+00:00  127.0150  127.0782  126.6800  126.7800  11665598   \n",
       "2021-06-08 20:15:00+00:00  126.7700  126.7900  126.5400  126.6600     83725   \n",
       "2021-06-08 21:00:00+00:00  126.6900  126.8500  126.6700  126.7200    145153   \n",
       "2021-06-08 21:45:00+00:00  126.7000  126.7400  126.6500  126.7100     38455   \n",
       "2021-06-08 22:30:00+00:00  126.7100  126.7600  126.6700  126.7100     30822   \n",
       "2021-06-08 23:15:00+00:00  126.7200  126.7600  126.6400  126.6400     32585   \n",
       "\n",
       "                           trade_count        vwap  \n",
       "timestamp                                           \n",
       "2021-06-08 07:30:00+00:00          304  126.049447  \n",
       "2021-06-08 08:15:00+00:00          349  126.231904  \n",
       "2021-06-08 09:00:00+00:00          308  126.284120  \n",
       "2021-06-08 09:45:00+00:00          582  126.196877  \n",
       "2021-06-08 10:30:00+00:00         1376  126.530863  \n",
       "2021-06-08 11:15:00+00:00         1760  126.738041  \n",
       "2021-06-08 12:00:00+00:00         3615  126.771889  \n",
       "2021-06-08 12:45:00+00:00         5526  126.802825  \n",
       "2021-06-08 13:30:00+00:00       171259  127.425804  \n",
       "2021-06-08 14:15:00+00:00        65748  127.342375  \n",
       "2021-06-08 15:00:00+00:00        64616  126.789316  \n",
       "2021-06-08 15:45:00+00:00        38366  126.712110  \n",
       "2021-06-08 16:30:00+00:00        26614  126.718837  \n",
       "2021-06-08 17:15:00+00:00        31922  126.665727  \n",
       "2021-06-08 18:00:00+00:00        29114  126.939887  \n",
       "2021-06-08 18:45:00+00:00        38235  127.214157  \n",
       "2021-06-08 19:30:00+00:00        47146  126.813182  \n",
       "2021-06-08 20:15:00+00:00         1973  126.679259  \n",
       "2021-06-08 21:00:00+00:00          769  126.746457  \n",
       "2021-06-08 21:45:00+00:00          406  126.699544  \n",
       "2021-06-08 22:30:00+00:00          222  126.713892  \n",
       "2021-06-08 23:15:00+00:00          340  126.704131  "
      ]
     },
     "execution_count": 56,
     "metadata": {},
     "output_type": "execute_result"
    }
   ],
   "source": [
    "api.get_bars(\"AAPL\", TimeFrame(30, TimeFrameUnit.Minute), \"2021-06-08\", \"2021-06-08\", adjustment='raw').df"
   ]
  },
  {
   "cell_type": "code",
   "execution_count": 37,
   "id": "9830fa8f",
   "metadata": {},
   "outputs": [],
   "source": [
    "tic=\"AXP\"\n",
    "time_interval=candle_time_interval\n",
    "NY = \"America/New_York\"\n",
    "start_date = pd.Timestamp(\"2011-07-01\", tz=NY)\n",
    "end_date = pd.Timestamp(\"2011-07-02\", tz=NY)\n",
    "start_time=(start_date + pd.Timedelta(\"09:30:00\")).isoformat()\n",
    "end_time=(start_date + pd.Timedelta(\"15:59:00\")).isoformat()"
   ]
  },
  {
   "cell_type": "code",
   "execution_count": 38,
   "id": "200100dd",
   "metadata": {},
   "outputs": [
    {
     "data": {
      "text/plain": [
       "'2011-07-01T09:30:00-04:00'"
      ]
     },
     "execution_count": 38,
     "metadata": {},
     "output_type": "execute_result"
    }
   ],
   "source": [
    "start_time"
   ]
  },
  {
   "cell_type": "code",
   "execution_count": 39,
   "id": "9347216f",
   "metadata": {},
   "outputs": [
    {
     "data": {
      "text/plain": [
       "'2011-07-01T15:59:00-04:00'"
      ]
     },
     "execution_count": 39,
     "metadata": {},
     "output_type": "execute_result"
    }
   ],
   "source": [
    "end_time"
   ]
  },
  {
   "cell_type": "code",
   "execution_count": 40,
   "id": "291fb203",
   "metadata": {},
   "outputs": [],
   "source": [
    "data_df = pd.DataFrame()"
   ]
  },
  {
   "cell_type": "code",
   "execution_count": 41,
   "id": "1f26f7ee",
   "metadata": {},
   "outputs": [],
   "source": [
    "barset = api.get_bars(tic, time_interval, start=start_time, end=end_time, limit=500).df"
   ]
  },
  {
   "cell_type": "code",
   "execution_count": 42,
   "id": "ee7f6d8d",
   "metadata": {},
   "outputs": [
    {
     "data": {
      "text/html": [
       "<div>\n",
       "<style scoped>\n",
       "    .dataframe tbody tr th:only-of-type {\n",
       "        vertical-align: middle;\n",
       "    }\n",
       "\n",
       "    .dataframe tbody tr th {\n",
       "        vertical-align: top;\n",
       "    }\n",
       "\n",
       "    .dataframe thead th {\n",
       "        text-align: right;\n",
       "    }\n",
       "</style>\n",
       "<table border=\"1\" class=\"dataframe\">\n",
       "  <thead>\n",
       "    <tr style=\"text-align: right;\">\n",
       "      <th></th>\n",
       "    </tr>\n",
       "  </thead>\n",
       "  <tbody>\n",
       "  </tbody>\n",
       "</table>\n",
       "</div>"
      ],
      "text/plain": [
       "Empty DataFrame\n",
       "Columns: []\n",
       "Index: []"
      ]
     },
     "execution_count": 42,
     "metadata": {},
     "output_type": "execute_result"
    }
   ],
   "source": [
    "barset"
   ]
  },
  {
   "cell_type": "code",
   "execution_count": 24,
   "id": "70937df9",
   "metadata": {},
   "outputs": [
    {
     "ename": "ValueError",
     "evalue": "cannot insert level_0, already exists",
     "output_type": "error",
     "traceback": [
      "\u001b[1;31m---------------------------------------------------------------------------\u001b[0m",
      "\u001b[1;31mValueError\u001b[0m                                Traceback (most recent call last)",
      "Input \u001b[1;32mIn [24]\u001b[0m, in \u001b[0;36m<cell line: 2>\u001b[1;34m()\u001b[0m\n\u001b[0;32m      1\u001b[0m barset[\u001b[38;5;124m\"\u001b[39m\u001b[38;5;124mtic\u001b[39m\u001b[38;5;124m\"\u001b[39m] \u001b[38;5;241m=\u001b[39m tic\n\u001b[1;32m----> 2\u001b[0m barset \u001b[38;5;241m=\u001b[39m \u001b[43mbarset\u001b[49m\u001b[38;5;241;43m.\u001b[39;49m\u001b[43mreset_index\u001b[49m\u001b[43m(\u001b[49m\u001b[43m)\u001b[49m\n\u001b[0;32m      3\u001b[0m data_df \u001b[38;5;241m=\u001b[39m pd\u001b[38;5;241m.\u001b[39mconcat([data_df, barset])\n",
      "File \u001b[1;32mD:\\Anaconda3\\envs\\finrl\\lib\\site-packages\\pandas\\util\\_decorators.py:311\u001b[0m, in \u001b[0;36mdeprecate_nonkeyword_arguments.<locals>.decorate.<locals>.wrapper\u001b[1;34m(*args, **kwargs)\u001b[0m\n\u001b[0;32m    305\u001b[0m \u001b[38;5;28;01mif\u001b[39;00m \u001b[38;5;28mlen\u001b[39m(args) \u001b[38;5;241m>\u001b[39m num_allow_args:\n\u001b[0;32m    306\u001b[0m     warnings\u001b[38;5;241m.\u001b[39mwarn(\n\u001b[0;32m    307\u001b[0m         msg\u001b[38;5;241m.\u001b[39mformat(arguments\u001b[38;5;241m=\u001b[39marguments),\n\u001b[0;32m    308\u001b[0m         \u001b[38;5;167;01mFutureWarning\u001b[39;00m,\n\u001b[0;32m    309\u001b[0m         stacklevel\u001b[38;5;241m=\u001b[39mstacklevel,\n\u001b[0;32m    310\u001b[0m     )\n\u001b[1;32m--> 311\u001b[0m \u001b[38;5;28;01mreturn\u001b[39;00m func(\u001b[38;5;241m*\u001b[39margs, \u001b[38;5;241m*\u001b[39m\u001b[38;5;241m*\u001b[39mkwargs)\n",
      "File \u001b[1;32mD:\\Anaconda3\\envs\\finrl\\lib\\site-packages\\pandas\\core\\frame.py:5845\u001b[0m, in \u001b[0;36mDataFrame.reset_index\u001b[1;34m(self, level, drop, inplace, col_level, col_fill)\u001b[0m\n\u001b[0;32m   5839\u001b[0m         \u001b[38;5;28;01mif\u001b[39;00m lab \u001b[38;5;129;01mis\u001b[39;00m \u001b[38;5;129;01mnot\u001b[39;00m \u001b[38;5;28;01mNone\u001b[39;00m:\n\u001b[0;32m   5840\u001b[0m             \u001b[38;5;66;03m# if we have the codes, extract the values with a mask\u001b[39;00m\n\u001b[0;32m   5841\u001b[0m             level_values \u001b[38;5;241m=\u001b[39m algorithms\u001b[38;5;241m.\u001b[39mtake(\n\u001b[0;32m   5842\u001b[0m                 level_values, lab, allow_fill\u001b[38;5;241m=\u001b[39m\u001b[38;5;28;01mTrue\u001b[39;00m, fill_value\u001b[38;5;241m=\u001b[39mlev\u001b[38;5;241m.\u001b[39m_na_value\n\u001b[0;32m   5843\u001b[0m             )\n\u001b[1;32m-> 5845\u001b[0m         \u001b[43mnew_obj\u001b[49m\u001b[38;5;241;43m.\u001b[39;49m\u001b[43minsert\u001b[49m\u001b[43m(\u001b[49m\u001b[38;5;241;43m0\u001b[39;49m\u001b[43m,\u001b[49m\u001b[43m \u001b[49m\u001b[43mname\u001b[49m\u001b[43m,\u001b[49m\u001b[43m \u001b[49m\u001b[43mlevel_values\u001b[49m\u001b[43m)\u001b[49m\n\u001b[0;32m   5847\u001b[0m new_obj\u001b[38;5;241m.\u001b[39mindex \u001b[38;5;241m=\u001b[39m new_index\n\u001b[0;32m   5848\u001b[0m \u001b[38;5;28;01mif\u001b[39;00m \u001b[38;5;129;01mnot\u001b[39;00m inplace:\n",
      "File \u001b[1;32mD:\\Anaconda3\\envs\\finrl\\lib\\site-packages\\pandas\\core\\frame.py:4440\u001b[0m, in \u001b[0;36mDataFrame.insert\u001b[1;34m(self, loc, column, value, allow_duplicates)\u001b[0m\n\u001b[0;32m   4434\u001b[0m     \u001b[38;5;28;01mraise\u001b[39;00m \u001b[38;5;167;01mValueError\u001b[39;00m(\n\u001b[0;32m   4435\u001b[0m         \u001b[38;5;124m\"\u001b[39m\u001b[38;5;124mCannot specify \u001b[39m\u001b[38;5;124m'\u001b[39m\u001b[38;5;124mallow_duplicates=True\u001b[39m\u001b[38;5;124m'\u001b[39m\u001b[38;5;124m when \u001b[39m\u001b[38;5;124m\"\u001b[39m\n\u001b[0;32m   4436\u001b[0m         \u001b[38;5;124m\"\u001b[39m\u001b[38;5;124m'\u001b[39m\u001b[38;5;124mself.flags.allows_duplicate_labels\u001b[39m\u001b[38;5;124m'\u001b[39m\u001b[38;5;124m is False.\u001b[39m\u001b[38;5;124m\"\u001b[39m\n\u001b[0;32m   4437\u001b[0m     )\n\u001b[0;32m   4438\u001b[0m \u001b[38;5;28;01mif\u001b[39;00m \u001b[38;5;129;01mnot\u001b[39;00m allow_duplicates \u001b[38;5;129;01mand\u001b[39;00m column \u001b[38;5;129;01min\u001b[39;00m \u001b[38;5;28mself\u001b[39m\u001b[38;5;241m.\u001b[39mcolumns:\n\u001b[0;32m   4439\u001b[0m     \u001b[38;5;66;03m# Should this be a different kind of error??\u001b[39;00m\n\u001b[1;32m-> 4440\u001b[0m     \u001b[38;5;28;01mraise\u001b[39;00m \u001b[38;5;167;01mValueError\u001b[39;00m(\u001b[38;5;124mf\u001b[39m\u001b[38;5;124m\"\u001b[39m\u001b[38;5;124mcannot insert \u001b[39m\u001b[38;5;132;01m{\u001b[39;00mcolumn\u001b[38;5;132;01m}\u001b[39;00m\u001b[38;5;124m, already exists\u001b[39m\u001b[38;5;124m\"\u001b[39m)\n\u001b[0;32m   4441\u001b[0m \u001b[38;5;28;01mif\u001b[39;00m \u001b[38;5;129;01mnot\u001b[39;00m \u001b[38;5;28misinstance\u001b[39m(loc, \u001b[38;5;28mint\u001b[39m):\n\u001b[0;32m   4442\u001b[0m     \u001b[38;5;28;01mraise\u001b[39;00m \u001b[38;5;167;01mTypeError\u001b[39;00m(\u001b[38;5;124m\"\u001b[39m\u001b[38;5;124mloc must be int\u001b[39m\u001b[38;5;124m\"\u001b[39m)\n",
      "\u001b[1;31mValueError\u001b[0m: cannot insert level_0, already exists"
     ]
    }
   ],
   "source": [
    "barset[\"tic\"] = tic\n",
    "barset = barset.reset_index()\n",
    "data_df = pd.concat([data_df, barset])"
   ]
  },
  {
   "cell_type": "code",
   "execution_count": null,
   "id": "0aadd60f",
   "metadata": {},
   "outputs": [],
   "source": []
  },
  {
   "cell_type": "code",
   "execution_count": null,
   "id": "56912c07",
   "metadata": {},
   "outputs": [],
   "source": []
  },
  {
   "cell_type": "code",
   "execution_count": 7,
   "id": "6fca3ba4",
   "metadata": {},
   "outputs": [
    {
     "name": "stdout",
     "output_type": "stream",
     "text": [
      "Alpaca successfully connected\n"
     ]
    }
   ],
   "source": [
    "DP = DataProcessor(data_source = 'alpaca',\n",
    "                  API_KEY = API_KEY, \n",
    "                  API_SECRET = API_SECRET, \n",
    "                  API_BASE_URL = API_BASE_URL\n",
    "                  )"
   ]
  },
  {
   "cell_type": "code",
   "execution_count": 8,
   "id": "1245bfba",
   "metadata": {},
   "outputs": [
    {
     "name": "stdout",
     "output_type": "stream",
     "text": [
      "TTTTT\n",
      "Data before 2021-10-01T15:59:00-04:00 is successfully fetched\n",
      "Data before 2021-10-02T15:59:00-04:00 is successfully fetched\n"
     ]
    }
   ],
   "source": [
    "data = DP.download_data(start_date = '2021-10-01', \n",
    "                        end_date = '2021-10-02',\n",
    "                        ticker_list = ticker_list, \n",
    "                        time_interval= candle_time_interval,\n",
    "                        dataset_path='../../../epocha/dataset/stock')"
   ]
  },
  {
   "cell_type": "code",
   "execution_count": null,
   "id": "781022fa",
   "metadata": {},
   "outputs": [],
   "source": []
  }
 ],
 "metadata": {
  "kernelspec": {
   "display_name": "Python 3 (ipykernel)",
   "language": "python",
   "name": "python3"
  },
  "language_info": {
   "codemirror_mode": {
    "name": "ipython",
    "version": 3
   },
   "file_extension": ".py",
   "mimetype": "text/x-python",
   "name": "python",
   "nbconvert_exporter": "python",
   "pygments_lexer": "ipython3",
   "version": "3.9.12"
  }
 },
 "nbformat": 4,
 "nbformat_minor": 5
}
